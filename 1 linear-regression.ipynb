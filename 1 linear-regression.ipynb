{
 "cells": [
  {
   "cell_type": "markdown",
   "metadata": {},
   "source": [
    "Linear Regression\n",
    "\n",
    "y = w * x + b\n",
    "\n",
    "where w is the weight and b is the bias.\n",
    "So we need to find the best w and b that minimize the loss function.\n",
    "\n",
    "For Loss function we use MSE Loss i.e. Mean squared error loss\n",
    "\n",
    "mse (L) = 1/n * sum((y-y_pred)**2)\n",
    "\n",
    "where y_pred = w * x + b\n",
    "\n",
    "Now we need optimum w and b that minimize the loss function.\n",
    "\n",
    "For this we use Gradient Descent Algorithm.\n",
    "\n",
    "Gradient Descent Algorithm:\n",
    "\n",
    "1. Initialize w and b with random values.\n",
    "2. Calculate the gradient of the loss function with respect to w and b.\n",
    "3. Update w and b using the following formula:\n",
    "\n",
    "w = w + learning_rate * (dL/dw)\n",
    "b = b + learning_rate * (dL/db)\n",
    "\n",
    "# Note it's not derivative, rather it's partial derivative.\n",
    "For ease of readability we write dL/dw as dw and dL/db as db.\n",
    "\n",
    "i.e. \n",
    "w = w + learning_rate * dw\n",
    "b = b + learning_rate * db\n",
    "\n",
    "4. Repeat step\n",
    "5. Stop when the loss function converges to the minimum value.\n",
    "\n",
    "Now partial derivative of loss function with respect to w and b is:\n",
    "\n",
    "dw = -2/n * sum(x * (y - y_pred))\n",
    "db = -2/n * sum(y - y_pred)\n",
    "\n",
    "where y_pred = w * x + b\n",
    "\n",
    "Now we can implement the above algorithm in code.\n"
   ]
  },
  {
   "cell_type": "code",
   "execution_count": 5,
   "metadata": {},
   "outputs": [
    {
     "data": {
      "text/plain": [
       "(tensor([[ 1.9269e+01],\n",
       "         [ 1.4873e+01],\n",
       "         [ 9.0072e+00],\n",
       "         [-2.1055e+01],\n",
       "         [ 6.7842e+00],\n",
       "         [-1.2345e+01],\n",
       "         [-4.3067e-01],\n",
       "         [-1.6047e+01],\n",
       "         [-7.5214e+00],\n",
       "         [ 1.6487e+01],\n",
       "         [-3.9248e+00],\n",
       "         [-1.4036e+01],\n",
       "         [-7.2788e+00],\n",
       "         [-5.5943e+00],\n",
       "         [-7.6884e+00],\n",
       "         [ 7.6245e+00],\n",
       "         [ 1.6423e+01],\n",
       "         [-1.5960e+00],\n",
       "         [-4.9740e+00],\n",
       "         [ 4.3959e+00],\n",
       "         [-7.5813e+00],\n",
       "         [ 1.0783e+01],\n",
       "         [ 8.0080e+00],\n",
       "         [ 1.6806e+01],\n",
       "         [ 1.2791e+01],\n",
       "         [ 1.2964e+01],\n",
       "         [ 6.1047e+00],\n",
       "         [ 1.3347e+01],\n",
       "         [-2.3162e+00],\n",
       "         [ 4.1759e-01],\n",
       "         [-2.5158e+00],\n",
       "         [ 8.5986e+00],\n",
       "         [-1.3847e+01],\n",
       "         [-8.7124e+00],\n",
       "         [-2.2337e+00],\n",
       "         [ 1.7174e+01],\n",
       "         [ 3.1888e+00],\n",
       "         [-4.2452e+00],\n",
       "         [ 3.0572e+00],\n",
       "         [-7.7459e+00],\n",
       "         [-1.5576e+01],\n",
       "         [ 9.9564e+00],\n",
       "         [-8.7979e+00],\n",
       "         [-6.0114e+00],\n",
       "         [-1.2742e+01],\n",
       "         [ 2.1228e+01],\n",
       "         [-1.2347e+01],\n",
       "         [-4.8791e+00],\n",
       "         [-9.1382e+00],\n",
       "         [-6.5814e+00],\n",
       "         [ 7.8024e-01],\n",
       "         [ 5.2581e+00],\n",
       "         [-4.8799e+00],\n",
       "         [ 1.1914e+01],\n",
       "         [-8.1401e+00],\n",
       "         [-7.3599e+00],\n",
       "         [-1.4032e+01],\n",
       "         [ 3.6004e-01],\n",
       "         [-6.3477e-01],\n",
       "         [ 6.7561e+00],\n",
       "         [-9.7807e-01],\n",
       "         [ 1.8446e+01],\n",
       "         [-1.1845e+01],\n",
       "         [ 1.3835e+01],\n",
       "         [ 1.4451e+01],\n",
       "         [ 8.5641e+00],\n",
       "         [ 2.2181e+01],\n",
       "         [ 5.2317e+00],\n",
       "         [ 3.4665e+00],\n",
       "         [-1.9733e+00],\n",
       "         [-1.0546e+01],\n",
       "         [ 1.2780e+01],\n",
       "         [-1.7219e+00],\n",
       "         [ 5.2379e+00],\n",
       "         [ 5.6622e-01],\n",
       "         [ 4.2630e+00],\n",
       "         [ 5.7501e+00],\n",
       "         [-6.4172e+00],\n",
       "         [-2.2064e+01],\n",
       "         [-7.5080e+00],\n",
       "         [ 1.0868e-01],\n",
       "         [-3.3874e+00],\n",
       "         [-1.3407e+01],\n",
       "         [-5.8537e+00],\n",
       "         [ 6.4076e+00],\n",
       "         [ 5.8325e+00],\n",
       "         [ 1.0669e+01],\n",
       "         [-4.5015e+00],\n",
       "         [-6.7875e+00],\n",
       "         [ 5.7432e+00],\n",
       "         [ 1.8775e+00],\n",
       "         [-3.5762e+00],\n",
       "         [ 2.6491e+00],\n",
       "         [ 1.2732e+01],\n",
       "         [-1.3109e-02],\n",
       "         [-3.0360e+00],\n",
       "         [-9.8644e+00],\n",
       "         [ 1.2330e+00],\n",
       "         [ 3.4987e+00],\n",
       "         [ 6.1728e+00]]),\n",
       " tensor([[ 60.4347],\n",
       "         [ 43.0936],\n",
       "         [ 23.6273],\n",
       "         [-42.3589],\n",
       "         [ 32.2714],\n",
       "         [-32.9113],\n",
       "         [ 14.0548],\n",
       "         [-38.4249],\n",
       "         [ -2.8533],\n",
       "         [ 49.6170],\n",
       "         [  2.3877],\n",
       "         [-25.9761],\n",
       "         [-18.9302],\n",
       "         [ -3.9171],\n",
       "         [-18.9731],\n",
       "         [ 19.1409],\n",
       "         [ 44.6976],\n",
       "         [ 17.3642],\n",
       "         [ -0.8875],\n",
       "         [ 21.7498],\n",
       "         [-17.5624],\n",
       "         [ 31.3520],\n",
       "         [ 25.7526],\n",
       "         [ 55.2020],\n",
       "         [ 33.2247],\n",
       "         [ 47.7414],\n",
       "         [ 13.3952],\n",
       "         [ 44.7366],\n",
       "         [  1.3849],\n",
       "         [  5.5774],\n",
       "         [-15.6246],\n",
       "         [ 20.8312],\n",
       "         [-26.9220],\n",
       "         [-18.8847],\n",
       "         [ -7.9122],\n",
       "         [ 48.9770],\n",
       "         [ 23.3860],\n",
       "         [ -9.6103],\n",
       "         [-10.2903],\n",
       "         [ -9.3892],\n",
       "         [-58.7405],\n",
       "         [ 25.7155],\n",
       "         [-28.9492],\n",
       "         [ -1.9052],\n",
       "         [-29.9166],\n",
       "         [ 54.7680],\n",
       "         [-35.6744],\n",
       "         [ -5.2505],\n",
       "         [-14.9772],\n",
       "         [-18.7619],\n",
       "         [  8.6988],\n",
       "         [  7.2059],\n",
       "         [  2.4336],\n",
       "         [ 31.6889],\n",
       "         [ -9.6382],\n",
       "         [ -2.2207],\n",
       "         [-45.5497],\n",
       "         [ 13.4672],\n",
       "         [ 11.1683],\n",
       "         [ 42.1557],\n",
       "         [ 12.3669],\n",
       "         [ 44.7137],\n",
       "         [-29.5218],\n",
       "         [ 41.6689],\n",
       "         [ 31.8089],\n",
       "         [ 10.5007],\n",
       "         [ 49.0921],\n",
       "         [ 12.8532],\n",
       "         [ 20.8315],\n",
       "         [ 15.4014],\n",
       "         [-35.8745],\n",
       "         [ 29.0885],\n",
       "         [ 10.9244],\n",
       "         [ 12.5368],\n",
       "         [ 13.4583],\n",
       "         [ 22.7562],\n",
       "         [  4.0490],\n",
       "         [-18.2944],\n",
       "         [-45.4959],\n",
       "         [ -7.1028],\n",
       "         [ -6.4816],\n",
       "         [  0.1120],\n",
       "         [-23.7293],\n",
       "         [  3.9027],\n",
       "         [ 34.0510],\n",
       "         [ 24.4599],\n",
       "         [ 43.0131],\n",
       "         [ -9.8094],\n",
       "         [ -8.3505],\n",
       "         [ 39.3514],\n",
       "         [ 16.3238],\n",
       "         [  3.1068],\n",
       "         [ 11.8355],\n",
       "         [ 28.5365],\n",
       "         [ -5.8414],\n",
       "         [-10.4286],\n",
       "         [-14.5900],\n",
       "         [  8.9033],\n",
       "         [ 18.1864],\n",
       "         [ 13.1917]]))"
      ]
     },
     "execution_count": 5,
     "metadata": {},
     "output_type": "execute_result"
    }
   ],
   "source": [
    "import torch\n",
    "\n",
    "torch.manual_seed(42)\n",
    "X = torch.randn(100, 1) * 10\n",
    "y = 2.5 * X + 5 + torch.randn(100, 1) * 10\n",
    "X, y"
   ]
  },
  {
   "cell_type": "code",
   "execution_count": 6,
   "metadata": {},
   "outputs": [
    {
     "data": {
      "image/png": "[encoded data removed]",
      "text/plain": [
       "<Figure size 640x480 with 1 Axes>"
      ]
     },
     "metadata": {},
     "output_type": "display_data"
    }
   ],
   "source": [
    "import matplotlib.pyplot as plt\n",
    "\n",
    "plt.scatter(X, y)\n",
    "plt.show()"
   ]
  },
  {
   "cell_type": "markdown",
   "metadata": {},
   "source": [
    "## Implementation without PyTorch Autograd"
   ]
  },
  {
   "cell_type": "code",
   "execution_count": 15,
   "metadata": {},
   "outputs": [
    {
     "data": {
      "text/plain": [
       "(tensor([-0.4279]), tensor([-0.5007]))"
      ]
     },
     "execution_count": 15,
     "metadata": {},
     "output_type": "execute_result"
    }
   ],
   "source": [
    "w= torch.randn(1, requires_grad=False)\n",
    "b= torch.randn(1, requires_grad=False)\n",
    "w, b"
   ]
  },
  {
   "cell_type": "code",
   "execution_count": 16,
   "metadata": {},
   "outputs": [
    {
     "name": "stderr",
     "output_type": "stream",
     "text": [
      "100%|██████████| 100/100 [00:00<00:00, 11898.40it/s]\n"
     ]
    },
    {
     "data": {
      "text/plain": [
       "[<matplotlib.lines.Line2D at 0x704da5ef2f30>]"
      ]
     },
     "execution_count": 16,
     "metadata": {},
     "output_type": "execute_result"
    },
    {
     "data": {
      "image/png": "[encoded data removed]",
      "text/plain": [
       "<Figure size 640x480 with 1 Axes>"
      ]
     },
     "metadata": {},
     "output_type": "display_data"
    }
   ],
   "source": [
    "from tqdm import tqdm\n",
    "\n",
    "learning_rate = 0.01\n",
    "epochs = 100\n",
    "losses = []\n",
    "\n",
    "def forward(X):\n",
    "    return X * w + b\n",
    "\n",
    "def mse(y, y_pred):\n",
    "    return ((y - y_pred) ** 2).mean()\n",
    "\n",
    "\n",
    "for epoch in tqdm(range(epochs)):\n",
    "    y_pred = forward(X)\n",
    "    loss = mse(y, y_pred)\n",
    "    losses.append(loss.item())\n",
    "    dw = (-2 / X.size(0)) * ((X * (y - y_pred)).sum())\n",
    "    db = (-2 / X.size(0)) * ((y - y_pred).sum())\n",
    "    w = w - learning_rate * dw\n",
    "    b = b - learning_rate * db\n",
    "\n",
    "plt.plot(losses)"
   ]
  },
  {
   "cell_type": "markdown",
   "metadata": {},
   "source": [
    "## Implementation with PyTorch Autograd"
   ]
  },
  {
   "cell_type": "code",
   "execution_count": 12,
   "metadata": {},
   "outputs": [
    {
     "data": {
      "text/plain": [
       "(tensor([1.2651], requires_grad=True), tensor([-0.3178], requires_grad=True))"
      ]
     },
     "execution_count": 12,
     "metadata": {},
     "output_type": "execute_result"
    }
   ],
   "source": [
    "w = torch.randn(1, requires_grad=True)\n",
    "b = torch.randn(1, requires_grad=True)\n",
    "w, b"
   ]
  },
  {
   "cell_type": "code",
   "execution_count": 13,
   "metadata": {},
   "outputs": [
    {
     "name": "stderr",
     "output_type": "stream",
     "text": [
      "100%|██████████| 100/100 [00:00<00:00, 4056.35it/s]\n"
     ]
    }
   ],
   "source": [
    "from tqdm import tqdm\n",
    "\n",
    "learning_rate = 0.01\n",
    "epochs = 100\n",
    "\n",
    "loss_list = []\n",
    "\n",
    "def forward(X):\n",
    "    return w * X + b\n",
    "\n",
    "def mse(y_pred, y):\n",
    "    return ((y_pred - y) ** 2).mean()\n",
    "\n",
    "for epoch in tqdm(range(epochs)):\n",
    "    y_pred = forward(X)\n",
    "    loss = mse(y_pred, y)\n",
    "    loss_list.append(loss.item())\n",
    "    loss.backward()\n",
    "    with torch.no_grad():\n",
    "        w -= learning_rate * w.grad\n",
    "        b -= learning_rate * b.grad\n",
    "        w.grad.zero_()\n",
    "        b.grad.zero_()"
   ]
  },
  {
   "cell_type": "code",
   "execution_count": 14,
   "metadata": {},
   "outputs": [
    {
     "data": {
      "image/png": "[encoded data removed]",
      "text/plain": [
       "<Figure size 640x480 with 1 Axes>"
      ]
     },
     "metadata": {},
     "output_type": "display_data"
    }
   ],
   "source": [
    "# Plot the loss\n",
    "plt.plot(loss_list)\n",
    "plt.xlabel('Epoch')\n",
    "plt.ylabel('Loss')\n",
    "plt.show()"
   ]
  },
  {
   "cell_type": "markdown",
   "metadata": {},
   "source": [
    "## Evaluation"
   ]
  },
  {
   "cell_type": "code",
   "execution_count": null,
   "metadata": {},
   "outputs": [],
   "source": []
  },
  {
   "cell_type": "markdown",
   "metadata": {},
   "source": []
  },
  {
   "cell_type": "code",
   "execution_count": null,
   "metadata": {},
   "outputs": [],
   "source": []
  }
 ],
 "metadata": {
  "kernelspec": {
   "display_name": ".venv",
   "language": "python",
   "name": "python3"
  },
  "language_info": {
   "codemirror_mode": {
    "name": "ipython",
    "version": 3
   },
   "file_extension": ".py",
   "mimetype": "text/x-python",
   "name": "python",
   "nbconvert_exporter": "python",
   "pygments_lexer": "ipython3",
   "version": "3.12.3"
  }
 },
 "nbformat": 4,
 "nbformat_minor": 2
}
